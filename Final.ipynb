{
 "cells": [
  {
   "cell_type": "markdown",
   "metadata": {},
   "source": [
    "### 서울시(중구) 대기오염 예측 10개의 일주일 시간별 데이터로 24시간 예측"
   ]
  },
  {
   "cell_type": "code",
   "execution_count": 11,
   "metadata": {},
   "outputs": [],
   "source": [
    "import datetime\n",
    "import matplotlib.pyplot as plt\n",
    "import pandas as pd\n",
    "import numpy as np\n",
    "import seaborn as sns\n",
    "\n",
    "import tensorflow as tf\n",
    "from tensorflow import keras\n",
    "from tensorflow.keras import layers\n",
    "from sklearn.preprocessing import MinMaxScaler"
   ]
  },
  {
   "cell_type": "markdown",
   "metadata": {},
   "source": [
    "### 데이터셋 불러오기 & 정리"
   ]
  },
  {
   "cell_type": "code",
   "execution_count": 12,
   "metadata": {},
   "outputs": [
    {
     "data": {
      "text/plain": [
       "(26279, 11)"
      ]
     },
     "execution_count": 12,
     "metadata": {},
     "output_type": "execute_result"
    }
   ],
   "source": [
    "df = pd.read_csv(\"C:\\\\TF Practice\\\\total_data_tf.csv\")\n",
    "df.shape"
   ]
  },
  {
   "cell_type": "code",
   "execution_count": 13,
   "metadata": {
    "scrolled": true
   },
   "outputs": [
    {
     "data": {
      "text/html": [
       "<div>\n",
       "<style scoped>\n",
       "    .dataframe tbody tr th:only-of-type {\n",
       "        vertical-align: middle;\n",
       "    }\n",
       "\n",
       "    .dataframe tbody tr th {\n",
       "        vertical-align: top;\n",
       "    }\n",
       "\n",
       "    .dataframe thead th {\n",
       "        text-align: right;\n",
       "    }\n",
       "</style>\n",
       "<table border=\"1\" class=\"dataframe\">\n",
       "  <thead>\n",
       "    <tr style=\"text-align: right;\">\n",
       "      <th></th>\n",
       "      <th>Date</th>\n",
       "      <th>Temp</th>\n",
       "      <th>Wspeed</th>\n",
       "      <th>Wdirection</th>\n",
       "      <th>Humidity</th>\n",
       "      <th>PM10</th>\n",
       "      <th>PM2.5</th>\n",
       "      <th>O3</th>\n",
       "      <th>NO2</th>\n",
       "      <th>CO</th>\n",
       "      <th>SO</th>\n",
       "    </tr>\n",
       "  </thead>\n",
       "  <tbody>\n",
       "    <tr>\n",
       "      <th>0</th>\n",
       "      <td>2017-01-01 1:00</td>\n",
       "      <td>0.0</td>\n",
       "      <td>1.4</td>\n",
       "      <td>20.0</td>\n",
       "      <td>78.0</td>\n",
       "      <td>77.0</td>\n",
       "      <td>63.0</td>\n",
       "      <td>0.002</td>\n",
       "      <td>0.068</td>\n",
       "      <td>1.3</td>\n",
       "      <td>0.006</td>\n",
       "    </tr>\n",
       "    <tr>\n",
       "      <th>1</th>\n",
       "      <td>2017-01-01 2:00</td>\n",
       "      <td>-0.3</td>\n",
       "      <td>1.9</td>\n",
       "      <td>50.0</td>\n",
       "      <td>81.0</td>\n",
       "      <td>76.0</td>\n",
       "      <td>63.0</td>\n",
       "      <td>0.002</td>\n",
       "      <td>0.066</td>\n",
       "      <td>1.4</td>\n",
       "      <td>0.006</td>\n",
       "    </tr>\n",
       "    <tr>\n",
       "      <th>2</th>\n",
       "      <td>2017-01-01 3:00</td>\n",
       "      <td>-0.7</td>\n",
       "      <td>2.0</td>\n",
       "      <td>50.0</td>\n",
       "      <td>84.0</td>\n",
       "      <td>73.0</td>\n",
       "      <td>57.0</td>\n",
       "      <td>0.002</td>\n",
       "      <td>0.063</td>\n",
       "      <td>1.2</td>\n",
       "      <td>0.005</td>\n",
       "    </tr>\n",
       "    <tr>\n",
       "      <th>3</th>\n",
       "      <td>2017-01-01 4:00</td>\n",
       "      <td>-1.1</td>\n",
       "      <td>1.6</td>\n",
       "      <td>20.0</td>\n",
       "      <td>85.0</td>\n",
       "      <td>67.0</td>\n",
       "      <td>55.0</td>\n",
       "      <td>0.002</td>\n",
       "      <td>0.053</td>\n",
       "      <td>1.1</td>\n",
       "      <td>0.005</td>\n",
       "    </tr>\n",
       "    <tr>\n",
       "      <th>4</th>\n",
       "      <td>2017-01-01 5:00</td>\n",
       "      <td>-1.4</td>\n",
       "      <td>1.4</td>\n",
       "      <td>50.0</td>\n",
       "      <td>86.0</td>\n",
       "      <td>66.0</td>\n",
       "      <td>54.0</td>\n",
       "      <td>0.002</td>\n",
       "      <td>0.051</td>\n",
       "      <td>1.1</td>\n",
       "      <td>0.004</td>\n",
       "    </tr>\n",
       "  </tbody>\n",
       "</table>\n",
       "</div>"
      ],
      "text/plain": [
       "              Date  Temp  Wspeed  Wdirection  Humidity  PM10  PM2.5     O3  \\\n",
       "0  2017-01-01 1:00   0.0     1.4        20.0      78.0  77.0   63.0  0.002   \n",
       "1  2017-01-01 2:00  -0.3     1.9        50.0      81.0  76.0   63.0  0.002   \n",
       "2  2017-01-01 3:00  -0.7     2.0        50.0      84.0  73.0   57.0  0.002   \n",
       "3  2017-01-01 4:00  -1.1     1.6        20.0      85.0  67.0   55.0  0.002   \n",
       "4  2017-01-01 5:00  -1.4     1.4        50.0      86.0  66.0   54.0  0.002   \n",
       "\n",
       "     NO2   CO     SO  \n",
       "0  0.068  1.3  0.006  \n",
       "1  0.066  1.4  0.006  \n",
       "2  0.063  1.2  0.005  \n",
       "3  0.053  1.1  0.005  \n",
       "4  0.051  1.1  0.004  "
      ]
     },
     "execution_count": 13,
     "metadata": {},
     "output_type": "execute_result"
    }
   ],
   "source": [
    "df.head()"
   ]
  },
  {
   "cell_type": "code",
   "execution_count": 14,
   "metadata": {
    "scrolled": true
   },
   "outputs": [
    {
     "name": "stdout",
     "output_type": "stream",
     "text": [
      "<class 'pandas.core.frame.DataFrame'>\n",
      "RangeIndex: 26279 entries, 0 to 26278\n",
      "Data columns (total 11 columns):\n",
      " #   Column      Non-Null Count  Dtype  \n",
      "---  ------      --------------  -----  \n",
      " 0   Date        26279 non-null  object \n",
      " 1   Temp        26274 non-null  float64\n",
      " 2   Wspeed      26226 non-null  float64\n",
      " 3   Wdirection  26226 non-null  float64\n",
      " 4   Humidity    26258 non-null  float64\n",
      " 5   PM10        26030 non-null  float64\n",
      " 6   PM2.5       26099 non-null  float64\n",
      " 7   O3          26039 non-null  float64\n",
      " 8   NO2         26105 non-null  float64\n",
      " 9   CO          26109 non-null  float64\n",
      " 10  SO          26100 non-null  float64\n",
      "dtypes: float64(10), object(1)\n",
      "memory usage: 2.2+ MB\n"
     ]
    }
   ],
   "source": [
    "df.info()"
   ]
  },
  {
   "cell_type": "code",
   "execution_count": 15,
   "metadata": {},
   "outputs": [],
   "source": [
    "date_time = pd.to_datetime(df.pop('Date'), format='%Y-%m-%d %H:%M')"
   ]
  },
  {
   "cell_type": "markdown",
   "metadata": {},
   "source": [
    "### 풍속 풍향 벡터화"
   ]
  },
  {
   "cell_type": "code",
   "execution_count": 16,
   "metadata": {},
   "outputs": [],
   "source": [
    "Wv = df.pop('Wspeed')\n",
    "Wd_rad = df.pop('Wdirection')*np.pi/180\n",
    "df['Wx'] = Wv*np.cos(Wd_rad)\n",
    "df['Wy'] = Wv*np.sin(Wd_rad) "
   ]
  },
  {
   "cell_type": "code",
   "execution_count": 17,
   "metadata": {},
   "outputs": [
    {
     "data": {
      "text/plain": [
       "(26279, 10)"
      ]
     },
     "execution_count": 17,
     "metadata": {},
     "output_type": "execute_result"
    }
   ],
   "source": [
    "df.index = date_time\n",
    "df.shape"
   ]
  },
  {
   "cell_type": "markdown",
   "metadata": {},
   "source": [
    "### 누락값 처리"
   ]
  },
  {
   "cell_type": "code",
   "execution_count": 18,
   "metadata": {},
   "outputs": [
    {
     "data": {
      "text/plain": [
       "Temp          5\n",
       "Humidity     21\n",
       "PM10        249\n",
       "PM2.5       180\n",
       "O3          240\n",
       "NO2         174\n",
       "CO          170\n",
       "SO          179\n",
       "Wx           53\n",
       "Wy           53\n",
       "dtype: int64"
      ]
     },
     "execution_count": 18,
     "metadata": {},
     "output_type": "execute_result"
    }
   ],
   "source": [
    "df.isna().sum()"
   ]
  },
  {
   "cell_type": "code",
   "execution_count": 19,
   "metadata": {},
   "outputs": [],
   "source": [
    "df_xy=df.interpolate(method='linear', limt_direction='forward')"
   ]
  },
  {
   "cell_type": "code",
   "execution_count": 20,
   "metadata": {},
   "outputs": [
    {
     "data": {
      "text/plain": [
       "(26279, 10)"
      ]
     },
     "execution_count": 20,
     "metadata": {},
     "output_type": "execute_result"
    }
   ],
   "source": [
    "df_xy.shape"
   ]
  },
  {
   "cell_type": "markdown",
   "metadata": {},
   "source": [
    "### 전처리\n",
    "- 지난 일주일 간의 기상 데이터로부터 내일 24시간동안의 미세먼지 정도를 예측\n",
    "- 7일 * 24시간 * 10개 특징 > 1일 * 24시간 * 1개의 대기질 파악\n",
    "- (7 * 24,4) -> (24)"
   ]
  },
  {
   "cell_type": "code",
   "execution_count": 21,
   "metadata": {},
   "outputs": [
    {
     "data": {
      "text/html": [
       "<div>\n",
       "<style scoped>\n",
       "    .dataframe tbody tr th:only-of-type {\n",
       "        vertical-align: middle;\n",
       "    }\n",
       "\n",
       "    .dataframe tbody tr th {\n",
       "        vertical-align: top;\n",
       "    }\n",
       "\n",
       "    .dataframe thead th {\n",
       "        text-align: right;\n",
       "    }\n",
       "</style>\n",
       "<table border=\"1\" class=\"dataframe\">\n",
       "  <thead>\n",
       "    <tr style=\"text-align: right;\">\n",
       "      <th></th>\n",
       "      <th>Temp</th>\n",
       "      <th>Humidity</th>\n",
       "      <th>PM10</th>\n",
       "      <th>PM2.5</th>\n",
       "      <th>O3</th>\n",
       "      <th>NO2</th>\n",
       "      <th>CO</th>\n",
       "      <th>SO</th>\n",
       "      <th>Wx</th>\n",
       "      <th>Wy</th>\n",
       "    </tr>\n",
       "    <tr>\n",
       "      <th>Date</th>\n",
       "      <th></th>\n",
       "      <th></th>\n",
       "      <th></th>\n",
       "      <th></th>\n",
       "      <th></th>\n",
       "      <th></th>\n",
       "      <th></th>\n",
       "      <th></th>\n",
       "      <th></th>\n",
       "      <th></th>\n",
       "    </tr>\n",
       "  </thead>\n",
       "  <tbody>\n",
       "    <tr>\n",
       "      <th>2017-01-01 01:00:00</th>\n",
       "      <td>0.0</td>\n",
       "      <td>78.0</td>\n",
       "      <td>77.0</td>\n",
       "      <td>63.0</td>\n",
       "      <td>0.002</td>\n",
       "      <td>0.068</td>\n",
       "      <td>1.3</td>\n",
       "      <td>0.006</td>\n",
       "      <td>1.315570</td>\n",
       "      <td>0.478828</td>\n",
       "    </tr>\n",
       "    <tr>\n",
       "      <th>2017-01-01 02:00:00</th>\n",
       "      <td>-0.3</td>\n",
       "      <td>81.0</td>\n",
       "      <td>76.0</td>\n",
       "      <td>63.0</td>\n",
       "      <td>0.002</td>\n",
       "      <td>0.066</td>\n",
       "      <td>1.4</td>\n",
       "      <td>0.006</td>\n",
       "      <td>1.221296</td>\n",
       "      <td>1.455484</td>\n",
       "    </tr>\n",
       "    <tr>\n",
       "      <th>2017-01-01 03:00:00</th>\n",
       "      <td>-0.7</td>\n",
       "      <td>84.0</td>\n",
       "      <td>73.0</td>\n",
       "      <td>57.0</td>\n",
       "      <td>0.002</td>\n",
       "      <td>0.063</td>\n",
       "      <td>1.2</td>\n",
       "      <td>0.005</td>\n",
       "      <td>1.285575</td>\n",
       "      <td>1.532089</td>\n",
       "    </tr>\n",
       "    <tr>\n",
       "      <th>2017-01-01 04:00:00</th>\n",
       "      <td>-1.1</td>\n",
       "      <td>85.0</td>\n",
       "      <td>67.0</td>\n",
       "      <td>55.0</td>\n",
       "      <td>0.002</td>\n",
       "      <td>0.053</td>\n",
       "      <td>1.1</td>\n",
       "      <td>0.005</td>\n",
       "      <td>1.503508</td>\n",
       "      <td>0.547232</td>\n",
       "    </tr>\n",
       "    <tr>\n",
       "      <th>2017-01-01 05:00:00</th>\n",
       "      <td>-1.4</td>\n",
       "      <td>86.0</td>\n",
       "      <td>66.0</td>\n",
       "      <td>54.0</td>\n",
       "      <td>0.002</td>\n",
       "      <td>0.051</td>\n",
       "      <td>1.1</td>\n",
       "      <td>0.004</td>\n",
       "      <td>0.899903</td>\n",
       "      <td>1.072462</td>\n",
       "    </tr>\n",
       "  </tbody>\n",
       "</table>\n",
       "</div>"
      ],
      "text/plain": [
       "                     Temp  Humidity  PM10  PM2.5     O3    NO2   CO     SO  \\\n",
       "Date                                                                         \n",
       "2017-01-01 01:00:00   0.0      78.0  77.0   63.0  0.002  0.068  1.3  0.006   \n",
       "2017-01-01 02:00:00  -0.3      81.0  76.0   63.0  0.002  0.066  1.4  0.006   \n",
       "2017-01-01 03:00:00  -0.7      84.0  73.0   57.0  0.002  0.063  1.2  0.005   \n",
       "2017-01-01 04:00:00  -1.1      85.0  67.0   55.0  0.002  0.053  1.1  0.005   \n",
       "2017-01-01 05:00:00  -1.4      86.0  66.0   54.0  0.002  0.051  1.1  0.004   \n",
       "\n",
       "                           Wx        Wy  \n",
       "Date                                     \n",
       "2017-01-01 01:00:00  1.315570  0.478828  \n",
       "2017-01-01 02:00:00  1.221296  1.455484  \n",
       "2017-01-01 03:00:00  1.285575  1.532089  \n",
       "2017-01-01 04:00:00  1.503508  0.547232  \n",
       "2017-01-01 05:00:00  0.899903  1.072462  "
      ]
     },
     "execution_count": 21,
     "metadata": {},
     "output_type": "execute_result"
    }
   ],
   "source": [
    "sequence_X = 24*7\n",
    "sequence_Y = 24\n",
    "df_xy.head()"
   ]
  },
  {
   "cell_type": "code",
   "execution_count": 22,
   "metadata": {},
   "outputs": [
    {
     "data": {
      "text/plain": [
       "((26088, 168, 10), (26088, 24), 10)"
      ]
     },
     "execution_count": 22,
     "metadata": {},
     "output_type": "execute_result"
    }
   ],
   "source": [
    "m = len(df_xy) - (sequence_X + sequence_Y) + 1\n",
    "feature_k = df_xy.shape[-1]\n",
    "(m, sequence_X, feature_k), (m, sequence_Y), feature_k"
   ]
  },
  {
   "cell_type": "code",
   "execution_count": 23,
   "metadata": {},
   "outputs": [],
   "source": [
    "data_x = np.zeros((m, sequence_X, feature_k),np.float32)\n",
    "data_y = np.zeros((m, sequence_Y),np.float32)"
   ]
  },
  {
   "cell_type": "code",
   "execution_count": 24,
   "metadata": {},
   "outputs": [
    {
     "data": {
      "text/plain": [
       "((26088, 168, 10), (26088, 24))"
      ]
     },
     "execution_count": 24,
     "metadata": {},
     "output_type": "execute_result"
    }
   ],
   "source": [
    "data_x.shape,data_y.shape"
   ]
  },
  {
   "cell_type": "code",
   "execution_count": 25,
   "metadata": {},
   "outputs": [
    {
     "data": {
      "text/plain": [
       "(26279, 10)"
      ]
     },
     "execution_count": 25,
     "metadata": {},
     "output_type": "execute_result"
    }
   ],
   "source": [
    "np.array(df_xy).shape"
   ]
  },
  {
   "cell_type": "code",
   "execution_count": 26,
   "metadata": {},
   "outputs": [
    {
     "data": {
      "text/plain": [
       "(26279, 10)"
      ]
     },
     "execution_count": 26,
     "metadata": {},
     "output_type": "execute_result"
    }
   ],
   "source": [
    "df_arr = np.array(df_xy)\n",
    "df_arr.shape"
   ]
  },
  {
   "cell_type": "code",
   "execution_count": 27,
   "metadata": {},
   "outputs": [],
   "source": [
    "for i in range(m):\n",
    "    data_x[i] = df_arr[i:i+sequence_X]"
   ]
  },
  {
   "cell_type": "code",
   "execution_count": 28,
   "metadata": {},
   "outputs": [],
   "source": [
    "df_test = df_arr[:26279, 2]"
   ]
  },
  {
   "cell_type": "code",
   "execution_count": 29,
   "metadata": {},
   "outputs": [
    {
     "data": {
      "text/plain": [
       "(26279,)"
      ]
     },
     "execution_count": 29,
     "metadata": {},
     "output_type": "execute_result"
    }
   ],
   "source": [
    "df_test.shape"
   ]
  },
  {
   "cell_type": "code",
   "execution_count": 30,
   "metadata": {},
   "outputs": [],
   "source": [
    "for i in range(m):\n",
    "    data_y[i] = df_test[i+sequence_X : i+sequence_X+sequence_Y,]"
   ]
  },
  {
   "cell_type": "code",
   "execution_count": 31,
   "metadata": {},
   "outputs": [
    {
     "data": {
      "text/plain": [
       "((26088, 168, 10), (26088, 24))"
      ]
     },
     "execution_count": 31,
     "metadata": {},
     "output_type": "execute_result"
    }
   ],
   "source": [
    "data_x.shape, data_y.shape"
   ]
  },
  {
   "cell_type": "markdown",
   "metadata": {},
   "source": [
    "### 정규화 (sklearn)"
   ]
  },
  {
   "cell_type": "code",
   "execution_count": 32,
   "metadata": {},
   "outputs": [],
   "source": [
    "scaler_x = MinMaxScaler()\n",
    "scaler_y = MinMaxScaler()"
   ]
  },
  {
   "cell_type": "code",
   "execution_count": 33,
   "metadata": {},
   "outputs": [
    {
     "data": {
      "text/plain": [
       "((26088, 168, 10), 0.0, 1.0000001)"
      ]
     },
     "execution_count": 33,
     "metadata": {},
     "output_type": "execute_result"
    }
   ],
   "source": [
    "data_x_2d = np.reshape(data_x, [-1,feature_k])\n",
    "scaler_x = scaler_x.fit(data_x_2d)\n",
    "data_x_2d_normal = scaler_x.transform(data_x_2d)\n",
    "data_x_normal = np.reshape(data_x_2d_normal, data_x.shape)\n",
    "data_x_normal.shape, np.min(data_x_normal), np.max(data_x_normal)"
   ]
  },
  {
   "cell_type": "code",
   "execution_count": 34,
   "metadata": {},
   "outputs": [
    {
     "data": {
      "text/plain": [
       "((26088, 24), 0.0, 1.0)"
      ]
     },
     "execution_count": 34,
     "metadata": {},
     "output_type": "execute_result"
    }
   ],
   "source": [
    "scaler_y = scaler_y.fit(data_y)\n",
    "data_y_normal = scaler_y.transform(data_y)\n",
    "data_y_normal.shape, np.min(data_y_normal), np.max(data_y_normal)"
   ]
  },
  {
   "cell_type": "markdown",
   "metadata": {},
   "source": [
    "### 학습용/테스트용 분리"
   ]
  },
  {
   "cell_type": "code",
   "execution_count": 35,
   "metadata": {},
   "outputs": [
    {
     "data": {
      "text/plain": [
       "((20000, 168, 10), (6087, 168, 10), (20000, 24), (6087, 24))"
      ]
     },
     "execution_count": 35,
     "metadata": {},
     "output_type": "execute_result"
    }
   ],
   "source": [
    "m_train = 20000\n",
    "x_train = data_x_normal[:m_train]\n",
    "x_test = data_x_normal[m_train:-1]\n",
    "y_train = data_y_normal[:m_train]\n",
    "y_test = data_y_normal[m_train:-1]\n",
    "x_train.shape, x_test.shape, y_train.shape, y_test.shape, "
   ]
  },
  {
   "cell_type": "markdown",
   "metadata": {},
   "source": [
    "### 모델 구현 및 평가"
   ]
  },
  {
   "cell_type": "markdown",
   "metadata": {},
   "source": [
    "- 3차원 시계열 데이터 시퀀스 길이 7일 * 24시간 = 168 시간"
   ]
  },
  {
   "cell_type": "code",
   "execution_count": 36,
   "metadata": {},
   "outputs": [],
   "source": [
    "model = keras.models.Sequential()\n",
    "model.add(layers.SimpleRNN(100,return_sequences = True))\n",
    "model.add(layers.SimpleRNN(100,return_sequences = False))\n",
    "model.add(layers.Dense(24))"
   ]
  },
  {
   "cell_type": "code",
   "execution_count": 37,
   "metadata": {},
   "outputs": [],
   "source": [
    "model.compile(loss='mse',optimizer='adam',metrics=[tf.keras.metrics.RootMeanSquaredError(\"RMSE\")])"
   ]
  },
  {
   "cell_type": "code",
   "execution_count": 38,
   "metadata": {
    "scrolled": true
   },
   "outputs": [
    {
     "name": "stdout",
     "output_type": "stream",
     "text": [
      "Epoch 1/30\n",
      "625/625 [==============================] - 65s 104ms/step - loss: 0.0077 - RMSE: 0.0878\n",
      "Epoch 2/30\n",
      "625/625 [==============================] - 65s 104ms/step - loss: 0.0047 - RMSE: 0.0688\n",
      "Epoch 3/30\n",
      "625/625 [==============================] - 65s 104ms/step - loss: 0.0045 - RMSE: 0.0674\n",
      "Epoch 4/30\n",
      "625/625 [==============================] - 65s 103ms/step - loss: 0.0045 - RMSE: 0.0667\n",
      "Epoch 5/30\n",
      "625/625 [==============================] - 65s 103ms/step - loss: 0.0044 - RMSE: 0.0661\n",
      "Epoch 6/30\n",
      "625/625 [==============================] - 65s 104ms/step - loss: 0.0043 - RMSE: 0.0657\n",
      "Epoch 7/30\n",
      "625/625 [==============================] - 65s 104ms/step - loss: 0.0042 - RMSE: 0.0649\n",
      "Epoch 8/30\n",
      "625/625 [==============================] - 65s 103ms/step - loss: 0.0042 - RMSE: 0.0646\n",
      "Epoch 9/30\n",
      "625/625 [==============================] - 65s 103ms/step - loss: 0.0041 - RMSE: 0.0641\n",
      "Epoch 10/30\n",
      "625/625 [==============================] - 65s 104ms/step - loss: 0.0041 - RMSE: 0.0637\n",
      "Epoch 11/30\n",
      "625/625 [==============================] - 65s 104ms/step - loss: 0.0041 - RMSE: 0.0637\n",
      "Epoch 12/30\n",
      "625/625 [==============================] - 65s 104ms/step - loss: 0.0039 - RMSE: 0.0628\n",
      "Epoch 13/30\n",
      "625/625 [==============================] - 65s 104ms/step - loss: 0.0039 - RMSE: 0.0624\n",
      "Epoch 14/30\n",
      "625/625 [==============================] - 65s 104ms/step - loss: 0.0039 - RMSE: 0.0627\n",
      "Epoch 15/30\n",
      "625/625 [==============================] - 65s 104ms/step - loss: 0.0038 - RMSE: 0.0620\n",
      "Epoch 16/30\n",
      "625/625 [==============================] - 65s 104ms/step - loss: 0.0039 - RMSE: 0.0622\n",
      "Epoch 17/30\n",
      "625/625 [==============================] - 65s 104ms/step - loss: 0.0040 - RMSE: 0.0630\n",
      "Epoch 18/30\n",
      "625/625 [==============================] - 65s 104ms/step - loss: 0.0039 - RMSE: 0.0624\n",
      "Epoch 19/30\n",
      "625/625 [==============================] - 65s 104ms/step - loss: 0.0038 - RMSE: 0.0617\n",
      "Epoch 20/30\n",
      "625/625 [==============================] - 64s 103ms/step - loss: 0.0038 - RMSE: 0.0618\n",
      "Epoch 21/30\n",
      "625/625 [==============================] - 65s 104ms/step - loss: 0.0038 - RMSE: 0.0614\n",
      "Epoch 22/30\n",
      "625/625 [==============================] - 65s 104ms/step - loss: 0.0038 - RMSE: 0.0614\n",
      "Epoch 23/30\n",
      "625/625 [==============================] - 65s 104ms/step - loss: 0.0037 - RMSE: 0.0611\n",
      "Epoch 24/30\n",
      "625/625 [==============================] - 66s 105ms/step - loss: 0.0038 - RMSE: 0.0617\n",
      "Epoch 25/30\n",
      "625/625 [==============================] - 66s 106ms/step - loss: 0.0037 - RMSE: 0.0607\n",
      "Epoch 26/30\n",
      "625/625 [==============================] - 68s 109ms/step - loss: 0.0037 - RMSE: 0.0610\n",
      "Epoch 27/30\n",
      "625/625 [==============================] - 69s 110ms/step - loss: 0.0037 - RMSE: 0.0612\n",
      "Epoch 28/30\n",
      "625/625 [==============================] - 69s 110ms/step - loss: 0.0037 - RMSE: 0.0610\n",
      "Epoch 29/30\n",
      "625/625 [==============================] - 69s 111ms/step - loss: 0.0038 - RMSE: 0.0614\n",
      "Epoch 30/30\n",
      "625/625 [==============================] - 69s 110ms/step - loss: 0.0037 - RMSE: 0.0612\n"
     ]
    },
    {
     "data": {
      "text/plain": [
       "<tensorflow.python.keras.callbacks.History at 0x253a8fe7208>"
      ]
     },
     "execution_count": 38,
     "metadata": {},
     "output_type": "execute_result"
    }
   ],
   "source": [
    "model.fit(x_train,y_train, epochs = 30, verbose = 1) "
   ]
  },
  {
   "cell_type": "code",
   "execution_count": 39,
   "metadata": {},
   "outputs": [
    {
     "name": "stdout",
     "output_type": "stream",
     "text": [
      "191/191 [==============================] - 3s 18ms/step - loss: 0.0029 - RMSE: 0.0536\n"
     ]
    },
    {
     "data": {
      "text/plain": [
       "[0.0028768260963261127, 0.05363605171442032]"
      ]
     },
     "execution_count": 39,
     "metadata": {},
     "output_type": "execute_result"
    }
   ],
   "source": [
    "model.evaluate(x_test,y_test)"
   ]
  },
  {
   "cell_type": "markdown",
   "metadata": {},
   "source": [
    "### 예측"
   ]
  },
  {
   "cell_type": "code",
   "execution_count": 41,
   "metadata": {},
   "outputs": [],
   "source": [
    "pre=model.predict(x_test)"
   ]
  },
  {
   "cell_type": "code",
   "execution_count": 42,
   "metadata": {},
   "outputs": [
    {
     "data": {
      "text/plain": [
       "(6087, 24)"
      ]
     },
     "execution_count": 42,
     "metadata": {},
     "output_type": "execute_result"
    }
   ],
   "source": [
    "pre.shape"
   ]
  },
  {
   "cell_type": "markdown",
   "metadata": {},
   "source": [
    "### 예측 및 실제 데이터 그래프 비교"
   ]
  },
  {
   "cell_type": "code",
   "execution_count": 43,
   "metadata": {},
   "outputs": [],
   "source": [
    "pre_2d=pre.flatten()"
   ]
  },
  {
   "cell_type": "code",
   "execution_count": 44,
   "metadata": {},
   "outputs": [
    {
     "data": {
      "text/plain": [
       "(146088,)"
      ]
     },
     "execution_count": 44,
     "metadata": {},
     "output_type": "execute_result"
    }
   ],
   "source": [
    "pre_2d.shape"
   ]
  },
  {
   "cell_type": "code",
   "execution_count": 45,
   "metadata": {},
   "outputs": [
    {
     "data": {
      "text/plain": [
       "array([0.03056868, 0.05463183, 0.05900598, ..., 0.10128404, 0.0963308 ,\n",
       "       0.09639339], dtype=float32)"
      ]
     },
     "execution_count": 45,
     "metadata": {},
     "output_type": "execute_result"
    }
   ],
   "source": [
    "pre_2d"
   ]
  },
  {
   "cell_type": "code",
   "execution_count": 48,
   "metadata": {},
   "outputs": [
    {
     "data": {
      "text/plain": [
       "(6087, 24)"
      ]
     },
     "execution_count": 48,
     "metadata": {},
     "output_type": "execute_result"
    }
   ],
   "source": [
    "y_test.shape"
   ]
  },
  {
   "cell_type": "code",
   "execution_count": 49,
   "metadata": {},
   "outputs": [],
   "source": [
    "y_test_2d = y_test.flatten()"
   ]
  },
  {
   "cell_type": "code",
   "execution_count": 50,
   "metadata": {},
   "outputs": [
    {
     "data": {
      "text/plain": [
       "(146088,)"
      ]
     },
     "execution_count": 50,
     "metadata": {},
     "output_type": "execute_result"
    }
   ],
   "source": [
    "y_test_2d.shape"
   ]
  },
  {
   "cell_type": "code",
   "execution_count": 51,
   "metadata": {},
   "outputs": [
    {
     "data": {
      "text/plain": [
       "array([0.06143344, 0.04778157, 0.04095563, ..., 0.07508532, 0.07508532,\n",
       "       0.07508532], dtype=float32)"
      ]
     },
     "execution_count": 51,
     "metadata": {},
     "output_type": "execute_result"
    }
   ],
   "source": [
    "y_test_2d"
   ]
  },
  {
   "cell_type": "code",
   "execution_count": 52,
   "metadata": {},
   "outputs": [
    {
     "data": {
      "text/plain": [
       "array([0.03056868, 0.05463183, 0.05900598, ..., 0.10128404, 0.0963308 ,\n",
       "       0.09639339], dtype=float32)"
      ]
     },
     "execution_count": 52,
     "metadata": {},
     "output_type": "execute_result"
    }
   ],
   "source": [
    "pre_2d"
   ]
  },
  {
   "cell_type": "code",
   "execution_count": 53,
   "metadata": {},
   "outputs": [
    {
     "data": {
      "text/plain": [
       "[<matplotlib.lines.Line2D at 0x253e3c10ec8>]"
      ]
     },
     "execution_count": 53,
     "metadata": {},
     "output_type": "execute_result"
    },
    {
     "data": {
      "image/png": "[encoded data removed]",
      "text/plain": [
       "<Figure size 432x288 with 1 Axes>"
      ]
     },
     "metadata": {
      "needs_background": "light"
     },
     "output_type": "display_data"
    }
   ],
   "source": [
    "plt.plot(pre_2d)"
   ]
  },
  {
   "cell_type": "code",
   "execution_count": 54,
   "metadata": {},
   "outputs": [
    {
     "data": {
      "text/plain": [
       "[<matplotlib.lines.Line2D at 0x253e40cef48>]"
      ]
     },
     "execution_count": 54,
     "metadata": {},
     "output_type": "execute_result"
    },
    {
     "data": {
      "image/png": "[encoded data removed]",
      "text/plain": [
       "<Figure size 432x288 with 1 Axes>"
      ]
     },
     "metadata": {
      "needs_background": "light"
     },
     "output_type": "display_data"
    }
   ],
   "source": [
    "plt.plot(y_test_2d)"
   ]
  },
  {
   "cell_type": "code",
   "execution_count": null,
   "metadata": {},
   "outputs": [],
   "source": []
  },
  {
   "cell_type": "code",
   "execution_count": null,
   "metadata": {},
   "outputs": [],
   "source": []
  }
 ],
 "metadata": {
  "kernelspec": {
   "display_name": "Python [conda env:tf2.3] *",
   "language": "python",
   "name": "conda-env-tf2.3-py"
  },
  "language_info": {
   "codemirror_mode": {
    "name": "ipython",
    "version": 3
   },
   "file_extension": ".py",
   "mimetype": "text/x-python",
   "name": "python",
   "nbconvert_exporter": "python",
   "pygments_lexer": "ipython3",
   "version": "3.7.9"
  }
 },
 "nbformat": 4,
 "nbformat_minor": 4
}
